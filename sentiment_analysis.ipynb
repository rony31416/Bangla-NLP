{
  "nbformat": 4,
  "nbformat_minor": 0,
  "metadata": {
    "colab": {
      "provenance": [],
      "authorship_tag": "ABX9TyMpK9J6oA9fRdRAF+JG19jw"
    },
    "kernelspec": {
      "name": "python3",
      "display_name": "Python 3"
    },
    "language_info": {
      "name": "python"
    }
  },
  "cells": [
    {
      "cell_type": "markdown",
      "source": [
        "# **13.Sentiment Analysis**\n",
        "\n",
        "* **What is Sentiment Analysis?**\n",
        "\n",
        "Sentiment analysis is the process of evaluating digital text to determine whether its emotional tone is positive, negative, or neutral. It is employed by companies to analyze large volumes of text data, such as emails, social media comments, and reviews, to gain insights into customer attitudes and enhance customer service.\n",
        "\n",
        "*   **Why is Sentiment Analysis Important?**\n",
        "\n",
        "Sentiment analysis is crucial for providing objective insights, improving products and services based on customer feedback, analyzing data at scale, and obtaining real-time results for quick decision-making. It helps businesses enhance customer service, monitor brand reputation, conduct market research, and track the performance of marketing campaigns.\n",
        "\n",
        "\n",
        "\n",
        "*   **How Does Sentiment Analysis Work?**\n",
        "\n",
        "Sentiment analysis utilizes natural language processing (NLP) technologies to understand text similarly to humans. The process involves preprocessing text by tokenization, lemmatization, and stop-word removal, followed by keyword analysis and sentiment scoring. There are three main approaches: rule-based, machine learning (ML), and hybrid.\n",
        "\n"
      ],
      "metadata": {
        "id": "9-YjkmUihOQa"
      }
    },
    {
      "cell_type": "markdown",
      "source": [
        "Code of sentiment Analysis and its steps:\n",
        "\n",
        "\n",
        "**0.Import all the library**\n",
        "\n",
        "\n",
        "```\n",
        "import string\n",
        "from collections import Counter\n",
        "from nltk.tokenize import word_tokenize\n",
        "from nltk.corpus import stopwords\n",
        "from nltk.sentiment.vader import SentimentIntensityAnalyzer\n",
        "import matplotlib.pyplot as plt\n",
        "```\n",
        "\n",
        "\n",
        "\n",
        "**1.Read and Preprocess Text:**\n",
        "This step reads the text from a file, converts it to lowercase, removes punctuation, and tokenizes the words using the NLTK library.\n",
        "\n",
        "```\n",
        "text = open('read.txt', encoding='utf-8').read()\n",
        "lower_case = text.lower()\n",
        "pun = string.punctuation\n",
        "clean_text = lower_case.translate(str.maketrans('', '', pun))\n",
        "tokenized_word = word_tokenize(clean_text, \"english\")\n",
        "\n",
        "```\n",
        "**2.Filter Stopwords:**\n",
        "\n",
        "\n",
        "```\n",
        "final_words = []\n",
        "for word in tokenized_word:\n",
        "    if word not in stopwords.words(\"english\"):\n",
        "        final_words.append(word)\n",
        "\n",
        "```\n",
        "\n",
        "**3.Read Emotion File and Extract Emotions:**\n",
        "Reads an emotions file, extracts words and corresponding emotions, and appends them to lists if they are present in the final words.\n",
        "\n",
        "\n",
        "```\n",
        "emosion_list1 = []\n",
        "emotion_list2 = []\n",
        "with open('emotions.txt', 'r') as file:\n",
        "    for line in file:\n",
        "        clear_line = line.replace(\"\\n\", '').replace(\",\", '').replace(\"'\", '').strip()\n",
        "        word, emotion = clear_line.split(':')\n",
        "        if word in final_words:\n",
        "            emosion_list1.append(word + \" -> \" + emotion)\n",
        "            emotion_list2.append(emotion)\n",
        "\n",
        "```\n",
        "**4.Print Detected Emotions:**\n",
        "Prints the detected emotions for each word.\n",
        "\n",
        "```\n",
        "print(\"\\n\\n\\nDetected Emotions: \")\n",
        "for w in emosion_list1:\n",
        "    print(w + \"\\n\")\n",
        "\n",
        "```\n",
        "**5.Count Emotion Occurrences:**\n",
        "Uses Counter to count the occurrences of each emotion.\n",
        "\n",
        "```\n",
        "w = Counter(emotion_list2)\n",
        "\n",
        "```\n",
        "**6.Sentiment Analysis Function:**\n",
        "Defines a function for sentiment analysis using the VADER sentiment analyzer from NLTK.\n",
        "\n",
        "```\n",
        "def sentiment_analyzer(sentiment_text):\n",
        "    score = SentimentIntensityAnalyzer().polarity_scores(sentiment_text)\n",
        "    print(score)\n",
        "    negative = score['neg']\n",
        "    positive = score['pos']\n",
        "    if positive > negative:\n",
        "        print(\"Positive Sentiment\\n\")\n",
        "    elif negative > positive:\n",
        "        print(\"Negative Sentiment\\n\")\n",
        "    else:\n",
        "        print(\"Neutral \\n\")\n",
        "\n",
        "```\n",
        "**7.Perform Sentiment Analysis:**\n",
        "Applies sentiment analysis to the cleaned text\n",
        "\n",
        "```\n",
        "sentiment_analyzer(clean_text)\n",
        "\n",
        "```\n",
        "**8.Plot Emotion Distribution:**\n",
        "\n",
        "\n",
        "\n",
        "```\n",
        "fig, ax1 = plt.subplots()\n",
        "ax1.bar(w.keys(), w.values())\n",
        "fig.autofmt_xdate()\n",
        "plt.savefig('graph.png')\n",
        "plt.show()\n",
        "e\n",
        "```\n",
        "Generates a bar plot to visualize the distribution of emotions and saves it as 'graph.png'. The plot shows the count of each emotion detected in the text.\n",
        "\n",
        "\n"
      ],
      "metadata": {
        "id": "U9E4WyKMht4h"
      }
    },
    {
      "cell_type": "code",
      "source": [
        "#0\n",
        "import string\n",
        "from collections import Counter\n",
        "from nltk.tokenize import word_tokenize\n",
        "from nltk.corpus import stopwords\n",
        "from nltk.sentiment.vader import SentimentIntensityAnalyzer\n",
        "import matplotlib.pyplot as plt"
      ],
      "metadata": {
        "id": "63ZPZPirhr5f"
      },
      "execution_count": null,
      "outputs": []
    },
    {
      "cell_type": "code",
      "source": [
        "#1\n",
        "text = open('read.txt', encoding='utf-8').read()\n",
        "lower_case = text.lower()\n",
        "pun = string.punctuation\n",
        "clean_text = lower_case.translate(str.maketrans('', '', pun))\n",
        "\n",
        "import nltk\n",
        "nltk.download('punkt')\n",
        "\n",
        "tokenized_word = word_tokenize(clean_text, \"english\")"
      ],
      "metadata": {
        "colab": {
          "base_uri": "https://localhost:8080/"
        },
        "id": "JLGA3rfgkPQN",
        "outputId": "65fee159-f9ad-4daa-ac7d-a0f113650eaf"
      },
      "execution_count": null,
      "outputs": [
        {
          "output_type": "stream",
          "name": "stderr",
          "text": [
            "[nltk_data] Downloading package punkt to /root/nltk_data...\n",
            "[nltk_data]   Unzipping tokenizers/punkt.zip.\n"
          ]
        }
      ]
    },
    {
      "cell_type": "code",
      "source": [
        "#2\n",
        "\n",
        "import nltk\n",
        "nltk.download('stopwords')\n",
        "final_words = []\n",
        "for word in tokenized_word:\n",
        "    if word not in stopwords.words(\"english\"):\n",
        "        final_words.append(word)\n"
      ],
      "metadata": {
        "colab": {
          "base_uri": "https://localhost:8080/"
        },
        "id": "7QdjV5ppkbQK",
        "outputId": "2ab855b6-941d-49fd-a805-8689a8287bac"
      },
      "execution_count": null,
      "outputs": [
        {
          "output_type": "stream",
          "name": "stderr",
          "text": [
            "[nltk_data] Downloading package stopwords to /root/nltk_data...\n",
            "[nltk_data]   Unzipping corpora/stopwords.zip.\n"
          ]
        }
      ]
    },
    {
      "cell_type": "code",
      "source": [
        "#3\n",
        "emosion_list1 = []\n",
        "emotion_list2 = []\n",
        "with open('emotions.txt', 'r') as file:\n",
        "    for line in file:\n",
        "        clear_line = line.replace(\"\\n\", '').replace(\",\", '').replace(\"'\", '').strip()\n",
        "        word, emotion = clear_line.split(':')\n",
        "        if word in final_words:\n",
        "            emosion_list1.append(word + \" -> \" + emotion)\n",
        "            emotion_list2.append(emotion)"
      ],
      "metadata": {
        "id": "4giCqp66kvz1"
      },
      "execution_count": null,
      "outputs": []
    },
    {
      "cell_type": "code",
      "source": [
        "#4.\n",
        "print(\"\\n\\n\\nDetected Emotions: \")\n",
        "for w in emosion_list1:\n",
        "    print(w + \"\\n\")"
      ],
      "metadata": {
        "colab": {
          "base_uri": "https://localhost:8080/"
        },
        "id": "l6XOhw-3k0aA",
        "outputId": "c527f1ab-8cad-417a-d636-e7cfc178c3ff"
      },
      "execution_count": null,
      "outputs": [
        {
          "output_type": "stream",
          "name": "stdout",
          "text": [
            "\n",
            "\n",
            "\n",
            "Detected Emotions: \n",
            "animated ->  happy\n",
            "\n",
            "important ->  happy\n",
            "\n",
            "loved ->  attached\n",
            "\n",
            "lucky ->  happy\n",
            "\n",
            "needed ->  attracted\n",
            "\n",
            "rejected ->  alone\n",
            "\n",
            "released ->  free\n",
            "\n",
            "replaced ->  hated\n",
            "\n",
            "satisfied ->  happy\n",
            "\n",
            "trapped ->  entitled\n",
            "\n",
            "great ->  happy\n",
            "\n",
            "loved ->  loved\n",
            "\n",
            "rejected ->  hated\n",
            "\n",
            "trapped ->  entitled\n",
            "\n"
          ]
        }
      ]
    },
    {
      "cell_type": "code",
      "source": [
        "#5\n",
        "w = Counter(emotion_list2)\n"
      ],
      "metadata": {
        "id": "2pwmoI_wk5QJ"
      },
      "execution_count": null,
      "outputs": []
    },
    {
      "cell_type": "code",
      "source": [
        "#6.\n",
        "def sentiment_analyzer(sentiment_text):\n",
        "    score = SentimentIntensityAnalyzer().polarity_scores(sentiment_text)\n",
        "    print(score)\n",
        "    negative = score['neg']\n",
        "    positive = score['pos']\n",
        "    if positive > negative:\n",
        "        print(\"Positive Sentiment\\n\")\n",
        "    elif negative > positive:\n",
        "        print(\"Negative Sentiment\\n\")\n",
        "    else:\n",
        "        print(\"Neutral \\n\")\n"
      ],
      "metadata": {
        "id": "GKMid_4xlAs9"
      },
      "execution_count": null,
      "outputs": []
    },
    {
      "cell_type": "code",
      "source": [
        "#7\n",
        "import nltk\n",
        "nltk.download('vader_lexicon')\n",
        "sentiment_analyzer(clean_text)\n"
      ],
      "metadata": {
        "colab": {
          "base_uri": "https://localhost:8080/"
        },
        "id": "t0vpTnBulF5N",
        "outputId": "f704560f-8a2c-4afc-fbba-4a633d7db23c"
      },
      "execution_count": null,
      "outputs": [
        {
          "output_type": "stream",
          "name": "stdout",
          "text": [
            "{'neg': 0.091, 'neu': 0.747, 'pos': 0.162, 'compound': 0.9996}\n",
            "Positive Sentiment\n",
            "\n"
          ]
        },
        {
          "output_type": "stream",
          "name": "stderr",
          "text": [
            "[nltk_data] Downloading package vader_lexicon to /root/nltk_data...\n"
          ]
        }
      ]
    },
    {
      "cell_type": "code",
      "source": [
        "#8.\n",
        "fig, ax1 = plt.subplots()\n",
        "ax1.bar(w.keys(), w.values())\n",
        "fig.autofmt_xdate()\n",
        "plt.savefig('graph.png')\n",
        "plt.show()\n"
      ],
      "metadata": {
        "colab": {
          "base_uri": "https://localhost:8080/",
          "height": 773
        },
        "id": "9fYhT9XZlN0x",
        "outputId": "c365f3be-0752-478d-e9d9-12be3b40b192"
      },
      "execution_count": null,
      "outputs": [
        {
          "output_type": "display_data",
          "data": {
            "text/plain": [
              "<Figure size 1000x1000 with 1 Axes>"
            ],
            "image/png": "[encoded data removed]"
          },
          "metadata": {}
        }
      ]
    },
    {
      "cell_type": "markdown",
      "source": [
        "## **Different Types of Sentiment Analysis:**\n",
        "           \n",
        "\n",
        " **Fine-grained Scoring:**\n",
        "\n",
        " 1.Involves categorizing text intent into multiple emotion levels on a scale (e.g., 0 to 100).\n",
        "\n",
        "2.Used in contexts like e-commerce where a 5-star rating system gauges the purchase experience\n",
        "\n",
        "**Emotional Detection:**\n",
        "\n",
        "1.Analyzes the psychological state of a person through their choice of words.\n",
        "\n",
        "2.Goes beyond sorting into categories, attempting to interpret various emotions like joy, anger, sadness, and regret.\n",
        "\n",
        "**Intent-based:**\n",
        "\n",
        "1.Helps understand customer sentiment in market research.\n",
        "\n",
        "2.Marketers use opinion mining to target specific customer groups based on keywords in monitored conversations\n"
      ],
      "metadata": {
        "id": "nStLrF-UlYOk"
      }
    },
    {
      "cell_type": "markdown",
      "source": [
        "## **Challenges in Sentiment Analysis:**\n",
        "\n",
        "**1.Sarcasm:**\n",
        "\n",
        "Machines struggle to analyze sentiment in sarcastic sentences.\n",
        "\n",
        "Example: \"Yeah, great. It took three weeks for my order to arrive.\"\n",
        "\n",
        "**2.Negation**:\n",
        "\n",
        "Difficulty interpreting sentences with negation.\n",
        "\n",
        "Example: \"I wouldn't say the subscription was expensive.\"\n",
        "\n",
        "**3.Multipolarity:**\n",
        "\n",
        "Challenges when a sentence expresses more than one sentiment.\n",
        "\n",
        "Example: \"I'm happy with the sturdy build but not impressed with the color.\"\n",
        "\n",
        "**4.Semantic Analysis:**\n",
        "\n",
        "Understands the meaning of words in text using machine learning (ML) and natural language processing (NLP).\n",
        "\n",
        "**5.Comparison with Sentiment Analysis:**\n",
        "\n",
        "Focuses on broader information and relationships between words and grammatical correctness.\n",
        "\n",
        "Can be integrated with sentiment analysis to enhance   understanding of customer behavior.\n",
        "\n",
        "          ref:https://aws.amazon.com/what-is/sentiment-analysis/\n"
      ],
      "metadata": {
        "id": "1VGYVJOEl-Bo"
      }
    }
  ]
}